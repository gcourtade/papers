{
 "cells": [
  {
   "cell_type": "code",
   "execution_count": 1,
   "id": "3a3bf2e5",
   "metadata": {},
   "outputs": [],
   "source": [
    "import pandas as pd\n",
    "import numpy as np\n",
    "import matplotlib.pyplot as plt"
   ]
  },
  {
   "cell_type": "code",
   "execution_count": 58,
   "id": "2b2541fa",
   "metadata": {},
   "outputs": [
    {
     "data": {
      "image/png": "[encoded data removed]",
      "text/plain": [
       "<Figure size 432x288 with 1 Axes>"
      ]
     },
     "metadata": {
      "needs_background": "light"
     },
     "output_type": "display_data"
    }
   ],
   "source": [
    "curves = pd.read_excel('PET_EtOH.xlsx', sheet_name='Sheet1')\n",
    "\n",
    "i = 0\n",
    "while i < len(curves.columns):\n",
    "    x = curves[curves.columns[i]]\n",
    "    y = curves[curves.columns[i+1]]\n",
    "    plt.plot(x, y, linewidth=0.8)\n",
    "    i += 2\n",
    "\n",
    "plt.xscale('log')\n",
    "plt.xlabel('Size Classes \\ μm', fontsize=12)\n",
    "plt.ylabel('Volume Density \\ %', fontsize=12)\n",
    "plt.savefig('sizes.png', dpi=300)\n",
    "plt.show()"
   ]
  },
  {
   "cell_type": "code",
   "execution_count": 59,
   "id": "d056b882",
   "metadata": {},
   "outputs": [
    {
     "data": {
      "text/html": [
       "<div>\n",
       "<style scoped>\n",
       "    .dataframe tbody tr th:only-of-type {\n",
       "        vertical-align: middle;\n",
       "    }\n",
       "\n",
       "    .dataframe tbody tr th {\n",
       "        vertical-align: top;\n",
       "    }\n",
       "\n",
       "    .dataframe thead th {\n",
       "        text-align: right;\n",
       "    }\n",
       "</style>\n",
       "<table border=\"1\" class=\"dataframe\">\n",
       "  <thead>\n",
       "    <tr style=\"text-align: right;\">\n",
       "      <th></th>\n",
       "      <th>Record Number</th>\n",
       "      <th>Sample Name</th>\n",
       "      <th>Measurement Date Time</th>\n",
       "      <th>D [4;3]</th>\n",
       "      <th>D [3;2]</th>\n",
       "      <th>Dx (10)</th>\n",
       "      <th>Dx (50)</th>\n",
       "      <th>Dx (90)</th>\n",
       "      <th>Operator Name</th>\n",
       "      <th>Instrument Serial No.</th>\n",
       "      <th>D [1;0]</th>\n",
       "    </tr>\n",
       "  </thead>\n",
       "  <tbody>\n",
       "    <tr>\n",
       "      <th>0</th>\n",
       "      <td>1</td>\n",
       "      <td>PET_EtOH_1</td>\n",
       "      <td>2023-01-30 10:48:01</td>\n",
       "      <td>105</td>\n",
       "      <td>66.5</td>\n",
       "      <td>32.9</td>\n",
       "      <td>98.1</td>\n",
       "      <td>186</td>\n",
       "      <td>Mastersizer</td>\n",
       "      <td>MAL1062523</td>\n",
       "      <td>19.2</td>\n",
       "    </tr>\n",
       "    <tr>\n",
       "      <th>1</th>\n",
       "      <td>2</td>\n",
       "      <td>PET_EtOH_1</td>\n",
       "      <td>2023-01-30 10:48:26</td>\n",
       "      <td>102</td>\n",
       "      <td>65.1</td>\n",
       "      <td>32.0</td>\n",
       "      <td>96.1</td>\n",
       "      <td>179</td>\n",
       "      <td>Mastersizer</td>\n",
       "      <td>MAL1062523</td>\n",
       "      <td>19.1</td>\n",
       "    </tr>\n",
       "    <tr>\n",
       "      <th>2</th>\n",
       "      <td>3</td>\n",
       "      <td>PET_EtOH_1</td>\n",
       "      <td>2023-01-30 10:48:53</td>\n",
       "      <td>103</td>\n",
       "      <td>65.5</td>\n",
       "      <td>32.2</td>\n",
       "      <td>97.1</td>\n",
       "      <td>181</td>\n",
       "      <td>Mastersizer</td>\n",
       "      <td>MAL1062523</td>\n",
       "      <td>19.0</td>\n",
       "    </tr>\n",
       "    <tr>\n",
       "      <th>3</th>\n",
       "      <td>4</td>\n",
       "      <td>PET_EtOH_1</td>\n",
       "      <td>2023-01-30 10:49:22</td>\n",
       "      <td>103</td>\n",
       "      <td>64.8</td>\n",
       "      <td>31.8</td>\n",
       "      <td>96.6</td>\n",
       "      <td>182</td>\n",
       "      <td>Mastersizer</td>\n",
       "      <td>MAL1062523</td>\n",
       "      <td>18.7</td>\n",
       "    </tr>\n",
       "    <tr>\n",
       "      <th>4</th>\n",
       "      <td>5</td>\n",
       "      <td>PET_EtOH_1</td>\n",
       "      <td>2023-01-30 10:49:45</td>\n",
       "      <td>102</td>\n",
       "      <td>64.4</td>\n",
       "      <td>31.3</td>\n",
       "      <td>96.4</td>\n",
       "      <td>181</td>\n",
       "      <td>Mastersizer</td>\n",
       "      <td>MAL1062523</td>\n",
       "      <td>18.6</td>\n",
       "    </tr>\n",
       "  </tbody>\n",
       "</table>\n",
       "</div>"
      ],
      "text/plain": [
       "   Record Number Sample Name Measurement Date Time  D [4;3]  D [3;2]  Dx (10)  \\\n",
       "0              1  PET_EtOH_1   2023-01-30 10:48:01      105     66.5     32.9   \n",
       "1              2  PET_EtOH_1   2023-01-30 10:48:26      102     65.1     32.0   \n",
       "2              3  PET_EtOH_1   2023-01-30 10:48:53      103     65.5     32.2   \n",
       "3              4  PET_EtOH_1   2023-01-30 10:49:22      103     64.8     31.8   \n",
       "4              5  PET_EtOH_1   2023-01-30 10:49:45      102     64.4     31.3   \n",
       "\n",
       "   Dx (50)  Dx (90) Operator Name Instrument Serial No.  D [1;0]  \n",
       "0     98.1      186   Mastersizer            MAL1062523     19.2  \n",
       "1     96.1      179   Mastersizer            MAL1062523     19.1  \n",
       "2     97.1      181   Mastersizer            MAL1062523     19.0  \n",
       "3     96.6      182   Mastersizer            MAL1062523     18.7  \n",
       "4     96.4      181   Mastersizer            MAL1062523     18.6  "
      ]
     },
     "execution_count": 59,
     "metadata": {},
     "output_type": "execute_result"
    }
   ],
   "source": [
    "table = pd.read_excel('PET_EtOH.xlsx', sheet_name='Sheet2')\n",
    "table"
   ]
  },
  {
   "cell_type": "code",
   "execution_count": 63,
   "id": "ff08e2d3",
   "metadata": {},
   "outputs": [
    {
     "name": "stdout",
     "output_type": "stream",
     "text": [
      "552 mm2\n"
     ]
    }
   ],
   "source": [
    "specific_surface_area = 92 # mm2/mg\n",
    "PET_mass = 6 # mg\n",
    "surface_area = specific_surface_area*PET_mass\n",
    "print(surface_area, 'mm2')"
   ]
  },
  {
   "cell_type": "code",
   "execution_count": 53,
   "id": "4ec0bc71",
   "metadata": {},
   "outputs": [
    {
     "data": {
      "text/plain": [
       "257.0"
      ]
     },
     "execution_count": 53,
     "metadata": {},
     "output_type": "execute_result"
    }
   ],
   "source": [
    "surface_area_film=2*(30*4+0.25*30+0.25*4)\n",
    "surface_area_film"
   ]
  },
  {
   "cell_type": "code",
   "execution_count": 56,
   "id": "1f6630d7",
   "metadata": {},
   "outputs": [
    {
     "data": {
      "text/plain": [
       "103.0"
      ]
     },
     "execution_count": 56,
     "metadata": {},
     "output_type": "execute_result"
    }
   ],
   "source": [
    "np.mean(table['D [4;3]'])"
   ]
  },
  {
   "cell_type": "code",
   "execution_count": 57,
   "id": "bd30a1fb",
   "metadata": {},
   "outputs": [
    {
     "data": {
      "text/plain": [
       "1.0954451150103321"
      ]
     },
     "execution_count": 57,
     "metadata": {},
     "output_type": "execute_result"
    }
   ],
   "source": [
    "np.std(table['D [4;3]'])"
   ]
  },
  {
   "cell_type": "code",
   "execution_count": 62,
   "id": "073c0cfe",
   "metadata": {},
   "outputs": [
    {
     "name": "stdout",
     "output_type": "stream",
     "text": [
      "91.93999999999998 1.002057882559687\n"
     ]
    }
   ],
   "source": [
    "spec_surface_area = [90.19,92.20,91.64,92.52,93.15]\n",
    "print(np.mean(spec_surface_area),np.std(spec_surface_area))"
   ]
  },
  {
   "cell_type": "code",
   "execution_count": null,
   "id": "9cd9b8eb",
   "metadata": {},
   "outputs": [],
   "source": []
  }
 ],
 "metadata": {
  "kernelspec": {
   "display_name": "Python 3 (ipykernel)",
   "language": "python",
   "name": "python3"
  },
  "language_info": {
   "codemirror_mode": {
    "name": "ipython",
    "version": 3
   },
   "file_extension": ".py",
   "mimetype": "text/x-python",
   "name": "python",
   "nbconvert_exporter": "python",
   "pygments_lexer": "ipython3",
   "version": "3.8.6"
  }
 },
 "nbformat": 4,
 "nbformat_minor": 5
}
