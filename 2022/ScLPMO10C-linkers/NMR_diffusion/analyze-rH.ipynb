{
 "cells": [
  {
   "attachments": {
    "image.png": {
     "image/png": "[encoded data removed]"
    }
   },
   "cell_type": "markdown",
   "metadata": {},
   "source": [
    "![image.png](attachment:image.png)"
   ]
  },
  {
   "cell_type": "markdown",
   "metadata": {},
   "source": [
    "Disordered conformations: https://pubmed.ncbi.nlm.nih.gov/28793210/\n",
    "\n",
    "Review of diffusion NMR for Rh:https://pubs.acs.org/doi/10.1021/bi991765q\n",
    "\n",
    "Review of diffusion NMR for unfodled states: https://pubs.acs.org/doi/pdf/10.1021/acs.analchem.8b05617\n",
    "\n",
    "alpha-CyD Rh: https://www.ncbi.nlm.nih.gov/pmc/articles/PMC2812710/\n",
    "\n",
    "Translational diffusion theory: https://link.springer.com/article/10.1140/epje/i2012-12130-x\n",
    "\n"
   ]
  },
  {
   "cell_type": "code",
   "execution_count": 1,
   "metadata": {},
   "outputs": [],
   "source": [
    "import numpy as np\n",
    "import matplotlib.pyplot as plt\n",
    "from scipy.optimize import curve_fit\n",
    "import pandas as pd"
   ]
  },
  {
   "cell_type": "code",
   "execution_count": 109,
   "metadata": {},
   "outputs": [],
   "source": [
    "def parse_diff_report(filename,start=0,end=-1):\n",
    "    D_ref = 1.62e-9 #m2/s  dioxane\n",
    "    Rh_ref = 2.12 # dioxane\n",
    "    diffcon = []\n",
    "    line_idx = []\n",
    "    gradient = []\n",
    "    expt = []\n",
    "    calc = []\n",
    "    \n",
    "    with open(filename, 'r') as f:\n",
    "        lines = f.readlines()\n",
    "    for i,line in enumerate(lines):\n",
    "        if 'Diff Con.' in line:\n",
    "            line_idx.append(i)\n",
    "            value = line.split()[3]\n",
    "            if value != 'inf':\n",
    "                diffcon.append(float(value))\n",
    "    Rh_prot = (D_ref/np.array(diffcon)) * Rh_ref\n",
    "    \n",
    "    for i in line_idx[start:end]:\n",
    "        data = lines[i+10:i+42]\n",
    "        g = []\n",
    "        e = []\n",
    "        c = []\n",
    "        for d in data:\n",
    "            lsplit = d.split()\n",
    "            if len(lsplit) == 5:\n",
    "                g.append(float(lsplit[1]))\n",
    "                e.append(float(lsplit[2]))\n",
    "                c.append(float(lsplit[3]))\n",
    "        gradient.append(g)\n",
    "        expt.append(e)\n",
    "        calc.append(c)\n",
    "    parsed_data = np.array([gradient, expt, calc])\n",
    "    return (parsed_data, Rh_prot[start:end].mean(), Rh_prot[start:end].std(), \\\n",
    "            diffcon[start:end], Rh_prot[start:end])"
   ]
  },
  {
   "cell_type": "code",
   "execution_count": 113,
   "metadata": {
    "scrolled": true
   },
   "outputs": [
    {
     "name": "stderr",
     "output_type": "stream",
     "text": [
      "/tmp/ipykernel_2479/4280424347.py:34: VisibleDeprecationWarning: Creating an ndarray from ragged nested sequences (which is a list-or-tuple of lists-or-tuples-or ndarrays with different lengths or shapes) is deprecated. If you meant to do this, you must specify 'dtype=object' when creating the ndarray.\n",
      "  parsed_data = np.array([gradient, expt, calc])\n"
     ]
    },
    {
     "data": {
      "text/html": [
       "<div>\n",
       "<style scoped>\n",
       "    .dataframe tbody tr th:only-of-type {\n",
       "        vertical-align: middle;\n",
       "    }\n",
       "\n",
       "    .dataframe tbody tr th {\n",
       "        vertical-align: top;\n",
       "    }\n",
       "\n",
       "    .dataframe thead th {\n",
       "        text-align: right;\n",
       "    }\n",
       "</style>\n",
       "<table border=\"1\" class=\"dataframe\">\n",
       "  <thead>\n",
       "    <tr style=\"text-align: right;\">\n",
       "      <th></th>\n",
       "      <th>protein</th>\n",
       "      <th>N</th>\n",
       "      <th>Mw</th>\n",
       "      <th>rH_ave</th>\n",
       "      <th>rH_err</th>\n",
       "      <th>rh_values</th>\n",
       "    </tr>\n",
       "  </thead>\n",
       "  <tbody>\n",
       "    <tr>\n",
       "      <th>0</th>\n",
       "      <td>WT</td>\n",
       "      <td>330</td>\n",
       "      <td>34567.60</td>\n",
       "      <td>30.170757</td>\n",
       "      <td>0.100189</td>\n",
       "      <td>[30.099912357581072, 30.099912357581072, 30.31...</td>\n",
       "    </tr>\n",
       "    <tr>\n",
       "      <th>1</th>\n",
       "      <td>polyS</td>\n",
       "      <td>330</td>\n",
       "      <td>34287.29</td>\n",
       "      <td>29.997983</td>\n",
       "      <td>0.311159</td>\n",
       "      <td>[30.3929203539823, 29.96858638743456, 29.63244...</td>\n",
       "    </tr>\n",
       "    <tr>\n",
       "      <th>2</th>\n",
       "      <td>shortened</td>\n",
       "      <td>316</td>\n",
       "      <td>33186.25</td>\n",
       "      <td>29.475712</td>\n",
       "      <td>0.357859</td>\n",
       "      <td>[29.96858638743456, 29.12977099236641, 29.3287...</td>\n",
       "    </tr>\n",
       "    <tr>\n",
       "      <th>3</th>\n",
       "      <td>extended</td>\n",
       "      <td>355</td>\n",
       "      <td>37126.64</td>\n",
       "      <td>31.405868</td>\n",
       "      <td>0.631652</td>\n",
       "      <td>[30.555160142348758, 31.595216191352346, 32.06...</td>\n",
       "    </tr>\n",
       "  </tbody>\n",
       "</table>\n",
       "</div>"
      ],
      "text/plain": [
       "     protein    N        Mw     rH_ave    rH_err  \\\n",
       "0         WT  330  34567.60  30.170757  0.100189   \n",
       "1      polyS  330  34287.29  29.997983  0.311159   \n",
       "2  shortened  316  33186.25  29.475712  0.357859   \n",
       "3   extended  355  37126.64  31.405868  0.631652   \n",
       "\n",
       "                                           rh_values  \n",
       "0  [30.099912357581072, 30.099912357581072, 30.31...  \n",
       "1  [30.3929203539823, 29.96858638743456, 29.63244...  \n",
       "2  [29.96858638743456, 29.12977099236641, 29.3287...  \n",
       "3  [30.555160142348758, 31.595216191352346, 32.06...  "
      ]
     },
     "execution_count": 113,
     "metadata": {},
     "output_type": "execute_result"
    }
   ],
   "source": [
    "WT = parse_diff_report('WT_diff_fitting_report_2.txt', start=-5, end=-2)\n",
    "EL = parse_diff_report('EL_diff_fitting_report_2.txt', start=-5, end=-2)\n",
    "SL = parse_diff_report('SL_diff_fitting_report_2.txt', start=-5, end=-2)\n",
    "SR = parse_diff_report('polyS_diff_fitting_report_2.txt', start=0, end=3)\n",
    "\n",
    "df = pd.DataFrame()\n",
    "df['protein'] = ['WT','polyS','shortened','extended']\n",
    "df['N'] = [330,330,316,355]\n",
    "df['Mw'] = [34567.6,34287.29,33186.25,37126.64]\n",
    "df['rH_ave']  = [WT[1],SR[1],SL[1],EL[1]]\n",
    "df['rH_err']  = [WT[2],SR[2],SL[2],EL[2]]\n",
    "df['rh_values'] = [WT[4],SR[4],SL[4],EL[4]]\n",
    "\n",
    "df"
   ]
  },
  {
   "cell_type": "code",
   "execution_count": null,
   "metadata": {},
   "outputs": [],
   "source": [
    "fig, axs = plt.subplots(3,4, sharex=True, figsize=(8,6), constrained_layout=True)\n",
    "\n",
    "data = [WT, SR, SL, EL]\n",
    "titles = ['WT', 'SR', 'SL', 'EL']\n",
    "for k,d in enumerate(data):\n",
    "    for i in range(3):\n",
    "\n",
    "        axs[i][k].plot(d[0][0][i], d[0][1][i], '.k', label='data')\n",
    "        axs[i][k].plot(d[0][0][i], d[0][2][i], 'r-', label='fit')\n",
    "        #string = '$D_t=${:.1e}'.format(d[3][i]) + '$ m^{2}s^{-1}$\\n$R_h=$' + '{:.1f}'.format(d[4][i]) + ' Å'\n",
    "        #axs[i][k].text(30, d[0][1][i][-1]*1.5, string)\n",
    "        \n",
    "        if i == 0:\n",
    "            axs[i][k].set_title(titles[k])\n",
    "        \n",
    "        if i == 0 and k == 0:\n",
    "            axs[i][k].legend(loc='uppler right', prop={'size': 8})\n",
    "            axs[i][k].set_xticks([10,25,40])\n",
    "            \n",
    "            \n",
    "fig.supylabel('Integrals', fontsize=14)\n",
    "fig.supxlabel('Gradient  \\ $Gcm^{-1}$')\n",
    "plt.savefig('dosy_fit.png', dpi=300)\n",
    "plt.show()"
   ]
  },
  {
   "cell_type": "code",
   "execution_count": null,
   "metadata": {},
   "outputs": [],
   "source": []
  }
 ],
 "metadata": {
  "kernelspec": {
   "display_name": "Python 3 (ipykernel)",
   "language": "python",
   "name": "python3"
  },
  "language_info": {
   "codemirror_mode": {
    "name": "ipython",
    "version": 3
   },
   "file_extension": ".py",
   "mimetype": "text/x-python",
   "name": "python",
   "nbconvert_exporter": "python",
   "pygments_lexer": "ipython3",
   "version": "3.8.6"
  }
 },
 "nbformat": 4,
 "nbformat_minor": 2
}
