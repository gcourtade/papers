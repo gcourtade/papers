{
 "cells": [
  {
   "cell_type": "code",
   "execution_count": 1,
   "id": "2e776877",
   "metadata": {},
   "outputs": [],
   "source": [
    "import numpy as np\n",
    "import pandas as pd\n",
    "%matplotlib inline\n",
    "import matplotlib.pyplot as plt\n",
    "from mpl_toolkits.axes_grid1 import make_axes_locatable\n",
    "import matplotlib as mpl\n",
    "from scipy.optimize import curve_fit\n",
    "from scipy.optimize import brentq\n",
    "from scipy.stats import pearsonr, spearmanr\n",
    "import itertools\n",
    "\n",
    "def nu2Rg(nus,Ns):\n",
    "    b = .55\n",
    "    g = 1.1615\n",
    "    rgs = np.empty(0)\n",
    "    for nu,N in zip(nus,Ns):\n",
    "        rg = np.sqrt((g*g+g)/(g+2*nu)/(g+2*nu+1)/2)*b*np.power(N,nu)\n",
    "        rgs = np.append(rgs, rg)\n",
    "    return rgs"
   ]
  },
  {
   "cell_type": "code",
   "execution_count": 2,
   "id": "89e5cbaa",
   "metadata": {},
   "outputs": [
    {
     "data": {
      "text/plain": [
       "array([0.21403042, 0.55890677])"
      ]
     },
     "execution_count": 2,
     "metadata": {},
     "output_type": "execute_result"
    }
   ],
   "source": [
    "c = pd.read_pickle('calc.pkl')\n",
    "p = pd.read_pickle('proteins.pkl')\n",
    "r = pd.read_csv('residues.csv').set_index('one')\n",
    "p = pd.concat([p,c],axis=1)\n",
    "p['N'] = p.fasta.apply(lambda x : len(x))\n",
    "#p['nullRg'] = p.N.apply(lambda x : 0.24*np.power(x,.53))\n",
    "f = lambda x,a,b : a*np.power(x,b)\n",
    "popt,_ = curve_fit(f,p.N,p.rg,p0=[.6,1])\n",
    "popt"
   ]
  },
  {
   "cell_type": "code",
   "execution_count": 3,
   "id": "7df7a403",
   "metadata": {},
   "outputs": [],
   "source": [
    "r = pd.read_csv('residues.csv').set_index('one')\n",
    "df = pd.DataFrame(index=r.index,columns=p.index)\n",
    "for name in p.index:\n",
    "    counts = [p.loc[name].fasta.count(aa) for aa in r.index]\n",
    "    freq = counts/np.sum(counts)\n",
    "    df[name] = freq"
   ]
  },
  {
   "cell_type": "code",
   "execution_count": 4,
   "id": "927ec1b8",
   "metadata": {},
   "outputs": [
    {
     "name": "stdout",
     "output_type": "stream",
     "text": [
      "0.5827755848766427 0.04244524297124585\n",
      "0.5335882405778569 0.008824097955519479\n"
     ]
    },
    {
     "data": {
      "image/png": "[encoded data removed]",
      "text/plain": [
       "<Figure size 468x360 with 5 Axes>"
      ]
     },
     "metadata": {
      "needs_background": "light"
     },
     "output_type": "display_data"
    }
   ],
   "source": [
    "fig = plt.figure(figsize=(6.5,5))\n",
    "plt.rc('font', **{'family':'sans-serif','sans-serif':['Arial'], 'size': 6})\n",
    "\n",
    "ax1 = plt.subplot2grid( (6,2), (0,0), rowspan=2, colspan=1 )\n",
    "ax2 = plt.subplot2grid( (6,2), (2,0), rowspan=2, colspan=1 )\n",
    "ax3 = plt.subplot2grid( (6,2), (4,0), rowspan=2, colspan=1 )\n",
    "ax4 = plt.subplot2grid( (6,2), (0,1), rowspan=3, colspan=1 )\n",
    "ax5 = plt.subplot2grid( (6,2), (3,1), rowspan=3, colspan=1 )\n",
    "\n",
    "# Average persistence lengths over sequences of equal length\n",
    "df = p[['N','lp']].astype(float).groupby('N').agg([np.mean,np.std]).droplevel(0, axis=1)\n",
    "ax1.errorbar(df.index,df['mean'],df['std'],lw=0,\n",
    "        marker='o', ms=2, elinewidth=1, capsize=3, capthick=1,label='Simulation')\n",
    "ax1.fill_between(df.index, df['mean'].mean()-df['mean'].std(), \n",
    "                 df['mean'].mean()+df['mean'].std(),alpha=.3, label='Mean$\\pm$SD')\n",
    "ax1.set_ylabel(r'Persistence Length, $\\langle l_p \\rangle$ / nm')\n",
    "lp_mean = df['mean'].mean()\n",
    "lp_sd = df['mean'].std()\n",
    "print(lp_mean,lp_sd)\n",
    "\n",
    "# Average scaling exponents over sequences of equal length\n",
    "Nu = p[['N','nu_lp']].astype(float).groupby('N').agg([np.mean,np.std]).droplevel(0, axis=1)\n",
    "ax2.errorbar(Nu.index,Nu['mean'],Nu['std'],lw=0,\n",
    "        marker='o', ms=2, elinewidth=1, capsize=3, capthick=1,label='Simulation')\n",
    "ax2.fill_between(Nu.index, Nu['mean'].mean()-Nu['mean'].std(), \n",
    "                 Nu['mean'].mean()+Nu['mean'].std(),alpha=.3, label='Mean$\\pm$SD')\n",
    "ax2.set_ylabel(r'Scaling Exponent, $\\langle \\nu \\rangle$')\n",
    "nu_mean = Nu['mean'].mean()\n",
    "nu_sd = Nu['mean'].std()\n",
    "print(nu_mean,nu_sd)\n",
    "\n",
    "# Average radii of gyration over sequences of equal length\n",
    "Rg = p[['N','rg']].astype(float).groupby('N').agg([np.mean,np.std]).droplevel(0, axis=1)\n",
    "# Estimate the Rg based on sequence length and average scaling exponent\n",
    "Rg['nullRg'] = nu2Rg([nu_mean]*Nu.index.size,Nu.index)\n",
    "ax3.plot(Rg.index,Rg['nullRg'],color='k',label='Null Model\\n'+r'$\\nu={:.3f}$'.format(nu_mean))\n",
    "ax3.errorbar(Rg.index,Rg['mean'],Rg['std'],lw=0,\n",
    "        marker='o', ms=2, elinewidth=1, capsize=3, capthick=1,color='tab:blue',\n",
    "             label='Simulation')\n",
    "\n",
    "ax3.set_ylabel(r'$\\langle R_g \\rangle$  /  nm')\n",
    "\n",
    "ax3.set_xlabel('Sequence Length, $N$')\n",
    "\n",
    "p['nullRg'] = nu2Rg([nu_mean]*p.N.size,p.N)\n",
    "ax4.errorbar(p['nullRg'],p['rg'],lw=0,\n",
    "        marker='o', ms=2, elinewidth=1, capsize=3, capthick=1,color='tab:blue')\n",
    "ax4.set_ylabel(r'$R_g$  /  nm')\n",
    "ax4.set_xlabel(r'Null Model $R_g$  /  nm')\n",
    "x = np.linspace(1,3,100)\n",
    "ax4.plot(x,x,ls='--',color='k')\n",
    "ax4.set_xlim(1.1,2.6)\n",
    "ax4.set_ylim(1.1,2.6)\n",
    "coeff = pearsonr(p['nullRg'].values,p['rg'].values)[0]\n",
    "ax4.annotate(\"Pearson's $r={:.2f}$\".format(coeff),xy=(.1,.9),xycoords='axes fraction')\n",
    "ax4.set_aspect('equal')\n",
    "\n",
    "# Calculate distribution of aa in the 164 sequences\n",
    "df = pd.DataFrame(index=r.index,columns=p.index)\n",
    "for name in p.index:\n",
    "    counts = [p.loc[name].fasta.count(aa) for aa in r.index]\n",
    "    freq = counts/np.sum(counts)\n",
    "    df[name] = freq\n",
    "    \n",
    "aaAll = p.fasta.sum()\n",
    "counts = [aaAll.count(aa) for aa in r.index]\n",
    "freq = counts/np.sum(counts)\n",
    "\n",
    "ax5.bar(r.index,freq,yerr=df.std(axis=1),\n",
    "             error_kw=dict(ecolor='black',elinewidth=0.5,capsize=2))\n",
    "ax5.set_xlim(-1,20)\n",
    "ax5.set_ylabel(r'Normalized Counts')\n",
    "\n",
    "ax1.legend()\n",
    "ax2.legend()\n",
    "ax3.legend()\n",
    "\n",
    "ax4.yaxis.set_ticks_position('right'); ax4.yaxis.set_label_position('right')\n",
    "ax5.yaxis.set_ticks_position('right'); ax5.yaxis.set_label_position('right')\n",
    "\n",
    "fig.text(0.05, .96, 'A', fontsize=12)\n",
    "fig.text(0.05, .65, 'B', fontsize=12)\n",
    "fig.text(0.05, .33, 'C', fontsize=12)\n",
    "fig.text(0.53, .96, 'D', fontsize=12)\n",
    "fig.text(0.53, .51, 'E', fontsize=12)\n",
    "\n",
    "plt.tight_layout(w_pad=4)"
   ]
  },
  {
   "cell_type": "code",
   "execution_count": null,
   "id": "f05e6ef3",
   "metadata": {},
   "outputs": [],
   "source": []
  }
 ],
 "metadata": {
  "kernelspec": {
   "display_name": "Python 3 (ipykernel)",
   "language": "python",
   "name": "python3"
  },
  "language_info": {
   "codemirror_mode": {
    "name": "ipython",
    "version": 3
   },
   "file_extension": ".py",
   "mimetype": "text/x-python",
   "name": "python",
   "nbconvert_exporter": "python",
   "pygments_lexer": "ipython3",
   "version": "3.8.13"
  }
 },
 "nbformat": 4,
 "nbformat_minor": 5
}
